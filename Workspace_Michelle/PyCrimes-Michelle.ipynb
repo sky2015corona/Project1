{
 "cells": [
  {
   "cell_type": "code",
   "execution_count": 4,
   "id": "a8b61d73-8a7a-4815-b02a-a95c2accd095",
   "metadata": {},
   "outputs": [
    {
     "ename": "ModuleNotFoundError",
     "evalue": "No module named 'api_key'",
     "output_type": "error",
     "traceback": [
      "\u001b[0;31m---------------------------------------------------------------------------\u001b[0m",
      "\u001b[0;31mModuleNotFoundError\u001b[0m                       Traceback (most recent call last)",
      "Cell \u001b[0;32mIn[4], line 11\u001b[0m\n\u001b[1;32m      8\u001b[0m \u001b[38;5;28;01mimport\u001b[39;00m \u001b[38;5;21;01mjson\u001b[39;00m \n\u001b[1;32m     10\u001b[0m \u001b[38;5;66;03m#Import API Key\u001b[39;00m\n\u001b[0;32m---> 11\u001b[0m \u001b[38;5;28;01mfrom\u001b[39;00m \u001b[38;5;21;01mapi_key\u001b[39;00m \u001b[38;5;28;01mimport\u001b[39;00m fbi_cde_key\n",
      "\u001b[0;31mModuleNotFoundError\u001b[0m: No module named 'api_key'"
     ]
    }
   ],
   "source": [
    "# Dependencies and Setup\n",
    "import os\n",
    "import csv\n",
    "import matplotlib.pyplot as plt\n",
    "import pandas as pd\n",
    "import numpy as np\n",
    "import requests\n",
    "import json \n",
    "\n",
    "#Import API Key\n",
    "from api_key import fbi_cde_key"
   ]
  },
  {
   "cell_type": "code",
   "execution_count": null,
   "id": "f6c2f678-310d-491f-a85a-cb775a3c7d15",
   "metadata": {},
   "outputs": [],
   "source": [
    "# Load the Data from Kento's API pull\n",
    "file_path = \"./Resources/state_id.csv\"\n",
    "state_id_df = pd.read_csv(file_path)\n",
    "pd.DataFrame(state_id_df)\n",
    "state_id_df.loc[:, [\"State_ID\"]].head()"
   ]
  },
  {
   "cell_type": "code",
   "execution_count": null,
   "id": "0282c063",
   "metadata": {},
   "outputs": [],
   "source": [
    "state_id_list = state_id_df[\"State_ID\"].tolist()\n",
    "print(state_id_list)"
   ]
  },
  {
   "cell_type": "code",
   "execution_count": null,
   "id": "c272889c-46e1-4119-9c49-a3bcc0becb5d",
   "metadata": {},
   "outputs": [],
   "source": [
    "for state_id in state_id_list:\n",
    "    url = f\"https://api.usa.gov/crime/fbi/cde/arrest/state/{state_id}/property_crime?from=2017&to=2021&API_KEY={fbi_cde_key}\"\n",
    "    print(url)"
   ]
  },
  {
   "cell_type": "code",
   "execution_count": null,
   "id": "f709b3ce-c088-4a1c-8149-f36b2e832985",
   "metadata": {},
   "outputs": [],
   "source": [
    "data_list = []\n",
    "\n",
    "for state_id in state_id_list:\n",
    "    url = f\"https://api.usa.gov/crime/fbi/cde/arrest/state/{state_id}/property_crime?from=2017&to=2021&API_KEY={fbi_cde_key}\"\n",
    "    response = requests.get(url).json()\n",
    "\n",
    "    data = response[\"data\"]\n",
    "    for data_list_response in data:\n",
    "        data_list_response [\"state \"] = state_id\n",
    "        data_list.append(data_list_response)"
   ]
  },
  {
   "cell_type": "code",
   "execution_count": null,
   "id": "823be147-ee4c-4088-b17b-0c42c2ba410b",
   "metadata": {},
   "outputs": [],
   "source": [
    "data_list"
   ]
  },
  {
   "cell_type": "code",
   "execution_count": null,
   "id": "3e42a22a-ada4-428a-bbae-469b2e5897fc",
   "metadata": {},
   "outputs": [],
   "source": [
    "json_data = json.dumps(data_list, indent=4)\n",
    "\n",
    "file_path = \"FBI_Data_Raw.json\"\n",
    "\n",
    "with open(file_path,'w') as json_file:\n",
    "    json_file.write(json_data)\n",
    "\n",
    "print(f\"API response saved to {file_path}\")"
   ]
  },
  {
   "cell_type": "code",
   "execution_count": null,
   "id": "0fd5ad78-0770-4aec-9162-afe9cc0291f7",
   "metadata": {},
   "outputs": [],
   "source": [
    "# To avoid polling the API again, we can pull the data from the saved JSON.\n",
    "pull_json = \"FBI_Data_Raw.json\"\n",
    "\n",
    "json_response_df = pd.read_json(pull_json)\n",
    "json_response_df"
   ]
  },
  {
   "cell_type": "code",
   "execution_count": null,
   "id": "22bbc889-b5bf-4d73-8b39-74781739426a",
   "metadata": {},
   "outputs": [],
   "source": [
    "# Clean the Dataframe\n",
    "crime_df = json_response_df.rename(columns=\n",
    "                              {\"data_year\": \"Year\",\n",
    "                               \"Motor Vehicle Theft\": \"Vehicle Theft\",\n",
    "                               \"state \": \"State\",\n",
    "                               \"Stolen Property: Buying, Receiving, Possessing\": \"Dealing in Stolen Property\"\n",
    "                              })\n",
    "crime_df\n"
   ]
  },
  {
   "cell_type": "code",
   "execution_count": 5,
   "id": "16fd4857-dee7-4568-8f44-023297987bc8",
   "metadata": {},
   "outputs": [
    {
     "ename": "NameError",
     "evalue": "name 'crime_df' is not defined",
     "output_type": "error",
     "traceback": [
      "\u001b[0;31m---------------------------------------------------------------------------\u001b[0m",
      "\u001b[0;31mNameError\u001b[0m                                 Traceback (most recent call last)",
      "Cell \u001b[0;32mIn[5], line 1\u001b[0m\n\u001b[0;32m----> 1\u001b[0m crime_df_cleaned \u001b[38;5;241m=\u001b[39m crime_df[[\u001b[38;5;124m\"\u001b[39m\u001b[38;5;124mYear\u001b[39m\u001b[38;5;124m\"\u001b[39m, \n\u001b[1;32m      2\u001b[0m                         \u001b[38;5;124m\"\u001b[39m\u001b[38;5;124mState\u001b[39m\u001b[38;5;124m\"\u001b[39m, \n\u001b[1;32m      3\u001b[0m                         \u001b[38;5;124m\"\u001b[39m\u001b[38;5;124mLarceny - Theft\u001b[39m\u001b[38;5;124m\"\u001b[39m,\n\u001b[1;32m      4\u001b[0m                         \u001b[38;5;124m\"\u001b[39m\u001b[38;5;124mVehicle Theft\u001b[39m\u001b[38;5;124m\"\u001b[39m, \n\u001b[1;32m      5\u001b[0m                         \u001b[38;5;124m\"\u001b[39m\u001b[38;5;124mArson\u001b[39m\u001b[38;5;124m\"\u001b[39m, \n\u001b[1;32m      6\u001b[0m                         \u001b[38;5;124m\"\u001b[39m\u001b[38;5;124mBurglary\u001b[39m\u001b[38;5;124m\"\u001b[39m, \n\u001b[1;32m      7\u001b[0m                         \u001b[38;5;124m\"\u001b[39m\u001b[38;5;124mEmbezzlement\u001b[39m\u001b[38;5;124m\"\u001b[39m, \n\u001b[1;32m      8\u001b[0m                         \u001b[38;5;124m\"\u001b[39m\u001b[38;5;124mForgery and Counterfeiting\u001b[39m\u001b[38;5;124m\"\u001b[39m, \n\u001b[1;32m      9\u001b[0m                         \u001b[38;5;124m\"\u001b[39m\u001b[38;5;124mFraud\u001b[39m\u001b[38;5;124m\"\u001b[39m, \n\u001b[1;32m     10\u001b[0m                         \u001b[38;5;124m\"\u001b[39m\u001b[38;5;124mVandalism\u001b[39m\u001b[38;5;124m\"\u001b[39m,\n\u001b[1;32m     11\u001b[0m                         \u001b[38;5;124m\"\u001b[39m\u001b[38;5;124mDealing in Stolen Property\u001b[39m\u001b[38;5;124m\"\u001b[39m\n\u001b[1;32m     12\u001b[0m                        ]]\n\u001b[1;32m     13\u001b[0m crime_df_cleaned\n",
      "\u001b[0;31mNameError\u001b[0m: name 'crime_df' is not defined"
     ]
    }
   ],
   "source": [
    "crime_df_cleaned = crime_df[[\"Year\", \n",
    "                        \"State\", \n",
    "                        \"Larceny - Theft\",\n",
    "                        \"Vehicle Theft\", \n",
    "                        \"Arson\", \n",
    "                        \"Burglary\", \n",
    "                        \"Embezzlement\", \n",
    "                        \"Forgery and Counterfeiting\", \n",
    "                        \"Fraud\", \n",
    "                        \"Vandalism\",\n",
    "                        \"Dealing in Stolen Property\"\n",
    "                       ]]\n",
    "crime_df_cleaned"
   ]
  },
  {
   "cell_type": "code",
   "execution_count": 6,
   "id": "2e9711b2-928d-4177-9933-9460a9c1871a",
   "metadata": {},
   "outputs": [
    {
     "ename": "FileNotFoundError",
     "evalue": "[Errno 2] No such file or directory: './Resources/census_data.csv'",
     "output_type": "error",
     "traceback": [
      "\u001b[0;31m---------------------------------------------------------------------------\u001b[0m",
      "\u001b[0;31mFileNotFoundError\u001b[0m                         Traceback (most recent call last)",
      "Cell \u001b[0;32mIn[6], line 3\u001b[0m\n\u001b[1;32m      1\u001b[0m census_path \u001b[38;5;241m=\u001b[39m \u001b[38;5;124m\"\u001b[39m\u001b[38;5;124m./Resources/census_data.csv\u001b[39m\u001b[38;5;124m\"\u001b[39m\n\u001b[0;32m----> 3\u001b[0m census_df \u001b[38;5;241m=\u001b[39m pd\u001b[38;5;241m.\u001b[39mread_csv(census_path)\n\u001b[1;32m      4\u001b[0m census_df\u001b[38;5;241m.\u001b[39mhead()\n",
      "File \u001b[0;32m~/anaconda3/lib/python3.11/site-packages/pandas/util/_decorators.py:211\u001b[0m, in \u001b[0;36mdeprecate_kwarg.<locals>._deprecate_kwarg.<locals>.wrapper\u001b[0;34m(*args, **kwargs)\u001b[0m\n\u001b[1;32m    209\u001b[0m     \u001b[38;5;28;01melse\u001b[39;00m:\n\u001b[1;32m    210\u001b[0m         kwargs[new_arg_name] \u001b[38;5;241m=\u001b[39m new_arg_value\n\u001b[0;32m--> 211\u001b[0m \u001b[38;5;28;01mreturn\u001b[39;00m func(\u001b[38;5;241m*\u001b[39margs, \u001b[38;5;241m*\u001b[39m\u001b[38;5;241m*\u001b[39mkwargs)\n",
      "File \u001b[0;32m~/anaconda3/lib/python3.11/site-packages/pandas/util/_decorators.py:331\u001b[0m, in \u001b[0;36mdeprecate_nonkeyword_arguments.<locals>.decorate.<locals>.wrapper\u001b[0;34m(*args, **kwargs)\u001b[0m\n\u001b[1;32m    325\u001b[0m \u001b[38;5;28;01mif\u001b[39;00m \u001b[38;5;28mlen\u001b[39m(args) \u001b[38;5;241m>\u001b[39m num_allow_args:\n\u001b[1;32m    326\u001b[0m     warnings\u001b[38;5;241m.\u001b[39mwarn(\n\u001b[1;32m    327\u001b[0m         msg\u001b[38;5;241m.\u001b[39mformat(arguments\u001b[38;5;241m=\u001b[39m_format_argument_list(allow_args)),\n\u001b[1;32m    328\u001b[0m         \u001b[38;5;167;01mFutureWarning\u001b[39;00m,\n\u001b[1;32m    329\u001b[0m         stacklevel\u001b[38;5;241m=\u001b[39mfind_stack_level(),\n\u001b[1;32m    330\u001b[0m     )\n\u001b[0;32m--> 331\u001b[0m \u001b[38;5;28;01mreturn\u001b[39;00m func(\u001b[38;5;241m*\u001b[39margs, \u001b[38;5;241m*\u001b[39m\u001b[38;5;241m*\u001b[39mkwargs)\n",
      "File \u001b[0;32m~/anaconda3/lib/python3.11/site-packages/pandas/io/parsers/readers.py:950\u001b[0m, in \u001b[0;36mread_csv\u001b[0;34m(filepath_or_buffer, sep, delimiter, header, names, index_col, usecols, squeeze, prefix, mangle_dupe_cols, dtype, engine, converters, true_values, false_values, skipinitialspace, skiprows, skipfooter, nrows, na_values, keep_default_na, na_filter, verbose, skip_blank_lines, parse_dates, infer_datetime_format, keep_date_col, date_parser, dayfirst, cache_dates, iterator, chunksize, compression, thousands, decimal, lineterminator, quotechar, quoting, doublequote, escapechar, comment, encoding, encoding_errors, dialect, error_bad_lines, warn_bad_lines, on_bad_lines, delim_whitespace, low_memory, memory_map, float_precision, storage_options)\u001b[0m\n\u001b[1;32m    935\u001b[0m kwds_defaults \u001b[38;5;241m=\u001b[39m _refine_defaults_read(\n\u001b[1;32m    936\u001b[0m     dialect,\n\u001b[1;32m    937\u001b[0m     delimiter,\n\u001b[0;32m   (...)\u001b[0m\n\u001b[1;32m    946\u001b[0m     defaults\u001b[38;5;241m=\u001b[39m{\u001b[38;5;124m\"\u001b[39m\u001b[38;5;124mdelimiter\u001b[39m\u001b[38;5;124m\"\u001b[39m: \u001b[38;5;124m\"\u001b[39m\u001b[38;5;124m,\u001b[39m\u001b[38;5;124m\"\u001b[39m},\n\u001b[1;32m    947\u001b[0m )\n\u001b[1;32m    948\u001b[0m kwds\u001b[38;5;241m.\u001b[39mupdate(kwds_defaults)\n\u001b[0;32m--> 950\u001b[0m \u001b[38;5;28;01mreturn\u001b[39;00m _read(filepath_or_buffer, kwds)\n",
      "File \u001b[0;32m~/anaconda3/lib/python3.11/site-packages/pandas/io/parsers/readers.py:605\u001b[0m, in \u001b[0;36m_read\u001b[0;34m(filepath_or_buffer, kwds)\u001b[0m\n\u001b[1;32m    602\u001b[0m _validate_names(kwds\u001b[38;5;241m.\u001b[39mget(\u001b[38;5;124m\"\u001b[39m\u001b[38;5;124mnames\u001b[39m\u001b[38;5;124m\"\u001b[39m, \u001b[38;5;28;01mNone\u001b[39;00m))\n\u001b[1;32m    604\u001b[0m \u001b[38;5;66;03m# Create the parser.\u001b[39;00m\n\u001b[0;32m--> 605\u001b[0m parser \u001b[38;5;241m=\u001b[39m TextFileReader(filepath_or_buffer, \u001b[38;5;241m*\u001b[39m\u001b[38;5;241m*\u001b[39mkwds)\n\u001b[1;32m    607\u001b[0m \u001b[38;5;28;01mif\u001b[39;00m chunksize \u001b[38;5;129;01mor\u001b[39;00m iterator:\n\u001b[1;32m    608\u001b[0m     \u001b[38;5;28;01mreturn\u001b[39;00m parser\n",
      "File \u001b[0;32m~/anaconda3/lib/python3.11/site-packages/pandas/io/parsers/readers.py:1442\u001b[0m, in \u001b[0;36mTextFileReader.__init__\u001b[0;34m(self, f, engine, **kwds)\u001b[0m\n\u001b[1;32m   1439\u001b[0m     \u001b[38;5;28mself\u001b[39m\u001b[38;5;241m.\u001b[39moptions[\u001b[38;5;124m\"\u001b[39m\u001b[38;5;124mhas_index_names\u001b[39m\u001b[38;5;124m\"\u001b[39m] \u001b[38;5;241m=\u001b[39m kwds[\u001b[38;5;124m\"\u001b[39m\u001b[38;5;124mhas_index_names\u001b[39m\u001b[38;5;124m\"\u001b[39m]\n\u001b[1;32m   1441\u001b[0m \u001b[38;5;28mself\u001b[39m\u001b[38;5;241m.\u001b[39mhandles: IOHandles \u001b[38;5;241m|\u001b[39m \u001b[38;5;28;01mNone\u001b[39;00m \u001b[38;5;241m=\u001b[39m \u001b[38;5;28;01mNone\u001b[39;00m\n\u001b[0;32m-> 1442\u001b[0m \u001b[38;5;28mself\u001b[39m\u001b[38;5;241m.\u001b[39m_engine \u001b[38;5;241m=\u001b[39m \u001b[38;5;28mself\u001b[39m\u001b[38;5;241m.\u001b[39m_make_engine(f, \u001b[38;5;28mself\u001b[39m\u001b[38;5;241m.\u001b[39mengine)\n",
      "File \u001b[0;32m~/anaconda3/lib/python3.11/site-packages/pandas/io/parsers/readers.py:1735\u001b[0m, in \u001b[0;36mTextFileReader._make_engine\u001b[0;34m(self, f, engine)\u001b[0m\n\u001b[1;32m   1733\u001b[0m     \u001b[38;5;28;01mif\u001b[39;00m \u001b[38;5;124m\"\u001b[39m\u001b[38;5;124mb\u001b[39m\u001b[38;5;124m\"\u001b[39m \u001b[38;5;129;01mnot\u001b[39;00m \u001b[38;5;129;01min\u001b[39;00m mode:\n\u001b[1;32m   1734\u001b[0m         mode \u001b[38;5;241m+\u001b[39m\u001b[38;5;241m=\u001b[39m \u001b[38;5;124m\"\u001b[39m\u001b[38;5;124mb\u001b[39m\u001b[38;5;124m\"\u001b[39m\n\u001b[0;32m-> 1735\u001b[0m \u001b[38;5;28mself\u001b[39m\u001b[38;5;241m.\u001b[39mhandles \u001b[38;5;241m=\u001b[39m get_handle(\n\u001b[1;32m   1736\u001b[0m     f,\n\u001b[1;32m   1737\u001b[0m     mode,\n\u001b[1;32m   1738\u001b[0m     encoding\u001b[38;5;241m=\u001b[39m\u001b[38;5;28mself\u001b[39m\u001b[38;5;241m.\u001b[39moptions\u001b[38;5;241m.\u001b[39mget(\u001b[38;5;124m\"\u001b[39m\u001b[38;5;124mencoding\u001b[39m\u001b[38;5;124m\"\u001b[39m, \u001b[38;5;28;01mNone\u001b[39;00m),\n\u001b[1;32m   1739\u001b[0m     compression\u001b[38;5;241m=\u001b[39m\u001b[38;5;28mself\u001b[39m\u001b[38;5;241m.\u001b[39moptions\u001b[38;5;241m.\u001b[39mget(\u001b[38;5;124m\"\u001b[39m\u001b[38;5;124mcompression\u001b[39m\u001b[38;5;124m\"\u001b[39m, \u001b[38;5;28;01mNone\u001b[39;00m),\n\u001b[1;32m   1740\u001b[0m     memory_map\u001b[38;5;241m=\u001b[39m\u001b[38;5;28mself\u001b[39m\u001b[38;5;241m.\u001b[39moptions\u001b[38;5;241m.\u001b[39mget(\u001b[38;5;124m\"\u001b[39m\u001b[38;5;124mmemory_map\u001b[39m\u001b[38;5;124m\"\u001b[39m, \u001b[38;5;28;01mFalse\u001b[39;00m),\n\u001b[1;32m   1741\u001b[0m     is_text\u001b[38;5;241m=\u001b[39mis_text,\n\u001b[1;32m   1742\u001b[0m     errors\u001b[38;5;241m=\u001b[39m\u001b[38;5;28mself\u001b[39m\u001b[38;5;241m.\u001b[39moptions\u001b[38;5;241m.\u001b[39mget(\u001b[38;5;124m\"\u001b[39m\u001b[38;5;124mencoding_errors\u001b[39m\u001b[38;5;124m\"\u001b[39m, \u001b[38;5;124m\"\u001b[39m\u001b[38;5;124mstrict\u001b[39m\u001b[38;5;124m\"\u001b[39m),\n\u001b[1;32m   1743\u001b[0m     storage_options\u001b[38;5;241m=\u001b[39m\u001b[38;5;28mself\u001b[39m\u001b[38;5;241m.\u001b[39moptions\u001b[38;5;241m.\u001b[39mget(\u001b[38;5;124m\"\u001b[39m\u001b[38;5;124mstorage_options\u001b[39m\u001b[38;5;124m\"\u001b[39m, \u001b[38;5;28;01mNone\u001b[39;00m),\n\u001b[1;32m   1744\u001b[0m )\n\u001b[1;32m   1745\u001b[0m \u001b[38;5;28;01massert\u001b[39;00m \u001b[38;5;28mself\u001b[39m\u001b[38;5;241m.\u001b[39mhandles \u001b[38;5;129;01mis\u001b[39;00m \u001b[38;5;129;01mnot\u001b[39;00m \u001b[38;5;28;01mNone\u001b[39;00m\n\u001b[1;32m   1746\u001b[0m f \u001b[38;5;241m=\u001b[39m \u001b[38;5;28mself\u001b[39m\u001b[38;5;241m.\u001b[39mhandles\u001b[38;5;241m.\u001b[39mhandle\n",
      "File \u001b[0;32m~/anaconda3/lib/python3.11/site-packages/pandas/io/common.py:856\u001b[0m, in \u001b[0;36mget_handle\u001b[0;34m(path_or_buf, mode, encoding, compression, memory_map, is_text, errors, storage_options)\u001b[0m\n\u001b[1;32m    851\u001b[0m \u001b[38;5;28;01melif\u001b[39;00m \u001b[38;5;28misinstance\u001b[39m(handle, \u001b[38;5;28mstr\u001b[39m):\n\u001b[1;32m    852\u001b[0m     \u001b[38;5;66;03m# Check whether the filename is to be opened in binary mode.\u001b[39;00m\n\u001b[1;32m    853\u001b[0m     \u001b[38;5;66;03m# Binary mode does not support 'encoding' and 'newline'.\u001b[39;00m\n\u001b[1;32m    854\u001b[0m     \u001b[38;5;28;01mif\u001b[39;00m ioargs\u001b[38;5;241m.\u001b[39mencoding \u001b[38;5;129;01mand\u001b[39;00m \u001b[38;5;124m\"\u001b[39m\u001b[38;5;124mb\u001b[39m\u001b[38;5;124m\"\u001b[39m \u001b[38;5;129;01mnot\u001b[39;00m \u001b[38;5;129;01min\u001b[39;00m ioargs\u001b[38;5;241m.\u001b[39mmode:\n\u001b[1;32m    855\u001b[0m         \u001b[38;5;66;03m# Encoding\u001b[39;00m\n\u001b[0;32m--> 856\u001b[0m         handle \u001b[38;5;241m=\u001b[39m \u001b[38;5;28mopen\u001b[39m(\n\u001b[1;32m    857\u001b[0m             handle,\n\u001b[1;32m    858\u001b[0m             ioargs\u001b[38;5;241m.\u001b[39mmode,\n\u001b[1;32m    859\u001b[0m             encoding\u001b[38;5;241m=\u001b[39mioargs\u001b[38;5;241m.\u001b[39mencoding,\n\u001b[1;32m    860\u001b[0m             errors\u001b[38;5;241m=\u001b[39merrors,\n\u001b[1;32m    861\u001b[0m             newline\u001b[38;5;241m=\u001b[39m\u001b[38;5;124m\"\u001b[39m\u001b[38;5;124m\"\u001b[39m,\n\u001b[1;32m    862\u001b[0m         )\n\u001b[1;32m    863\u001b[0m     \u001b[38;5;28;01melse\u001b[39;00m:\n\u001b[1;32m    864\u001b[0m         \u001b[38;5;66;03m# Binary mode\u001b[39;00m\n\u001b[1;32m    865\u001b[0m         handle \u001b[38;5;241m=\u001b[39m \u001b[38;5;28mopen\u001b[39m(handle, ioargs\u001b[38;5;241m.\u001b[39mmode)\n",
      "\u001b[0;31mFileNotFoundError\u001b[0m: [Errno 2] No such file or directory: './Resources/census_data.csv'"
     ]
    }
   ],
   "source": [
    "census_path = \"./Resources/census_data.csv\"\n",
    "\n",
    "census_df = pd.read_csv(census_path)\n",
    "census_df.head()"
   ]
  },
  {
   "cell_type": "code",
   "execution_count": null,
   "id": "ab3d187a-f1d5-449c-8287-43a61b9d9549",
   "metadata": {},
   "outputs": [],
   "source": [
    "# Combine the Crime and Census Dataframes\n",
    "crime_census_combined = crime_df_cleaned.merge(census_df,how=\"left\", on=[\"State\", \"State\"])\n",
    "crime_census_combined"
   ]
  },
  {
   "cell_type": "code",
   "execution_count": null,
   "id": "61a9ac5b-2613-43f4-aff7-2da6faec297f",
   "metadata": {},
   "outputs": [],
   "source": [
    "# Add the crime columns together in each row to crete a \"Total Arrests\" column\n",
    "crime_census_combined[\"Total Arrests\"] = crime_census_combined[\"Larceny - Theft\"] + crime_census_combined[\"Vehicle Theft\"] + crime_census_combined[\"Arson\"] + crime_census_combined[\"Burglary\"] + crime_census_combined[\"Embezzlement\"] + crime_census_combined[\"Forgery and Counterfeiting\"] + crime_census_combined[\"Fraud\"] + crime_census_combined[\"Vandalism\"] + crime_census_combined[\"Dealing in Stolen Property\"]\n",
    "crime_census_combined"
   ]
  },
  {
   "cell_type": "code",
   "execution_count": null,
   "id": "e5d8a6ae-fec1-4a5f-9375-6148ea1f0ff3",
   "metadata": {},
   "outputs": [],
   "source": [
    "# Put Total Arrests near the front of the dataframe\n",
    "combined_cleaned = crime_census_combined[[\"Year\", \n",
    "                        \"State\", \n",
    "                        \"Total Arrests\",\n",
    "                        \"Larceny - Theft\",\n",
    "                        \"Vehicle Theft\", \n",
    "                        \"Arson\", \n",
    "                        \"Burglary\", \n",
    "                        \"Embezzlement\", \n",
    "                        \"Forgery and Counterfeiting\", \n",
    "                        \"Fraud\", \n",
    "                        \"Vandalism\",\n",
    "                        \"Dealing in Stolen Property\",\n",
    "                        \"epop2017\",\n",
    "                        \"epop2018\",\n",
    "                        \"epop2019\",\n",
    "                        \"epop2020\"\n",
    "                       ]]\n",
    "combined_cleaned"
   ]
  },
  {
   "cell_type": "code",
   "execution_count": 7,
   "id": "63185c6a-aac9-462c-9db9-b333c4ca4d2a",
   "metadata": {},
   "outputs": [],
   "source": [
    "# For Laura: Normalize Create a new column with a calculated per-capita crime rate."
   ]
  },
  {
   "cell_type": "code",
   "execution_count": 8,
   "id": "c651f737-6309-4625-8170-05bf0e0d3b05",
   "metadata": {},
   "outputs": [
    {
     "ename": "NameError",
     "evalue": "name 'combined_cleaned' is not defined",
     "output_type": "error",
     "traceback": [
      "\u001b[0;31m---------------------------------------------------------------------------\u001b[0m",
      "\u001b[0;31mNameError\u001b[0m                                 Traceback (most recent call last)",
      "Cell \u001b[0;32mIn[8], line 4\u001b[0m\n\u001b[1;32m      1\u001b[0m \u001b[38;5;66;03m# Use the National Data to show the crime rate over time\u001b[39;00m\n\u001b[1;32m      2\u001b[0m \u001b[38;5;66;03m# For Michelle:  We will need to redo this when we get the per-capita data from Laura\u001b[39;00m\n\u001b[0;32m----> 4\u001b[0m national_total \u001b[38;5;241m=\u001b[39m combined_cleaned\u001b[38;5;241m.\u001b[39mgroupby(\u001b[38;5;124m\"\u001b[39m\u001b[38;5;124mYear\u001b[39m\u001b[38;5;124m\"\u001b[39m)[\u001b[38;5;124m\"\u001b[39m\u001b[38;5;124mTotal Arrests\u001b[39m\u001b[38;5;124m\"\u001b[39m]\u001b[38;5;241m.\u001b[39msum()\u001b[38;5;241m.\u001b[39mreset_index()\n\u001b[1;32m      6\u001b[0m plt\u001b[38;5;241m.\u001b[39mplot(national_total[\u001b[38;5;124m\"\u001b[39m\u001b[38;5;124mYear\u001b[39m\u001b[38;5;124m\"\u001b[39m], national_total[\u001b[38;5;124m\"\u001b[39m\u001b[38;5;124mTotal Arrests\u001b[39m\u001b[38;5;124m\"\u001b[39m], marker\u001b[38;5;241m=\u001b[39m\u001b[38;5;124m\"\u001b[39m\u001b[38;5;124mo\u001b[39m\u001b[38;5;124m\"\u001b[39m)\n\u001b[1;32m      8\u001b[0m plt\u001b[38;5;241m.\u001b[39mtitle(\u001b[38;5;124m\"\u001b[39m\u001b[38;5;124mNon-Violent Crime in the United States (2017 to 2021)\u001b[39m\u001b[38;5;124m\"\u001b[39m)\n",
      "\u001b[0;31mNameError\u001b[0m: name 'combined_cleaned' is not defined"
     ]
    }
   ],
   "source": [
    "# Use the National Data to show the crime rate over time\n",
    "# For Michelle:  We will need to redo this when we get the per-capita data from Laura\n",
    "\n",
    "national_total = combined_cleaned.groupby(\"Year\")[\"Total Arrests\"].sum().reset_index()\n",
    "\n",
    "plt.plot(national_total[\"Year\"], national_total[\"Total Arrests\"], marker=\"o\")\n",
    "\n",
    "plt.title(\"Non-Violent Crime in the United States (2017 to 2021)\")\n",
    "plt.xlabel(\"Year\")\n",
    "plt.ylabel(\"Total Arrests\")\n",
    "\n",
    "plt.yticks(national_total[\"Total Arrests\"])\n",
    "plt.xticks(national_total[\"Year\"])\n",
    "plt.ticklabel_format(style='plain', axis='y')\n",
    "\n",
    "plt.grid(True)\n",
    "plt.show()\n"
   ]
  },
  {
   "cell_type": "code",
   "execution_count": 9,
   "id": "f41c022c-dcd0-4859-852b-c34219b1ef2a",
   "metadata": {},
   "outputs": [
    {
     "ename": "NameError",
     "evalue": "name 'combined_cleaned' is not defined",
     "output_type": "error",
     "traceback": [
      "\u001b[0;31m---------------------------------------------------------------------------\u001b[0m",
      "\u001b[0;31mNameError\u001b[0m                                 Traceback (most recent call last)",
      "Cell \u001b[0;32mIn[9], line 3\u001b[0m\n\u001b[1;32m      1\u001b[0m \u001b[38;5;66;03m# Isolate Crime Data by year for later graphs.\u001b[39;00m\n\u001b[1;32m      2\u001b[0m \u001b[38;5;66;03m# 2017\u001b[39;00m\n\u001b[0;32m----> 3\u001b[0m crime_df_2017 \u001b[38;5;241m=\u001b[39m combined_cleaned[combined_cleaned[\u001b[38;5;124m\"\u001b[39m\u001b[38;5;124mYear\u001b[39m\u001b[38;5;124m\"\u001b[39m] \u001b[38;5;241m==\u001b[39m \u001b[38;5;241m2017\u001b[39m]\n\u001b[1;32m      4\u001b[0m crime_df_2017\u001b[38;5;241m.\u001b[39mhead()\n",
      "\u001b[0;31mNameError\u001b[0m: name 'combined_cleaned' is not defined"
     ]
    }
   ],
   "source": [
    "# Isolate Crime Data by year for later graphs.\n",
    "# 2017\n",
    "crime_df_2017 = combined_cleaned[combined_cleaned[\"Year\"] == 2017]\n",
    "crime_df_2017.head()"
   ]
  },
  {
   "cell_type": "code",
   "execution_count": 10,
   "id": "bacd786c-b51f-4252-b5e7-bea1b85103be",
   "metadata": {},
   "outputs": [
    {
     "ename": "NameError",
     "evalue": "name 'combined_cleaned' is not defined",
     "output_type": "error",
     "traceback": [
      "\u001b[0;31m---------------------------------------------------------------------------\u001b[0m",
      "\u001b[0;31mNameError\u001b[0m                                 Traceback (most recent call last)",
      "Cell \u001b[0;32mIn[10], line 2\u001b[0m\n\u001b[1;32m      1\u001b[0m \u001b[38;5;66;03m# 2018\u001b[39;00m\n\u001b[0;32m----> 2\u001b[0m crime_df_2018 \u001b[38;5;241m=\u001b[39m combined_cleaned[combined_cleaned[\u001b[38;5;124m\"\u001b[39m\u001b[38;5;124mYear\u001b[39m\u001b[38;5;124m\"\u001b[39m] \u001b[38;5;241m==\u001b[39m \u001b[38;5;241m2018\u001b[39m]\n\u001b[1;32m      3\u001b[0m crime_df_2018\u001b[38;5;241m.\u001b[39mhead()\n",
      "\u001b[0;31mNameError\u001b[0m: name 'combined_cleaned' is not defined"
     ]
    }
   ],
   "source": [
    "# 2018\n",
    "crime_df_2018 = combined_cleaned[combined_cleaned[\"Year\"] == 2018]\n",
    "crime_df_2018.head()"
   ]
  },
  {
   "cell_type": "code",
   "execution_count": 11,
   "id": "4dd8cbec-a90a-4b25-9e76-a38cccec1922",
   "metadata": {},
   "outputs": [
    {
     "ename": "NameError",
     "evalue": "name 'combined_cleaned' is not defined",
     "output_type": "error",
     "traceback": [
      "\u001b[0;31m---------------------------------------------------------------------------\u001b[0m",
      "\u001b[0;31mNameError\u001b[0m                                 Traceback (most recent call last)",
      "Cell \u001b[0;32mIn[11], line 2\u001b[0m\n\u001b[1;32m      1\u001b[0m \u001b[38;5;66;03m# 2019\u001b[39;00m\n\u001b[0;32m----> 2\u001b[0m crime_df_2019 \u001b[38;5;241m=\u001b[39m combined_cleaned[combined_cleaned[\u001b[38;5;124m\"\u001b[39m\u001b[38;5;124mYear\u001b[39m\u001b[38;5;124m\"\u001b[39m] \u001b[38;5;241m==\u001b[39m \u001b[38;5;241m2019\u001b[39m]\n\u001b[1;32m      3\u001b[0m crime_df_2019\u001b[38;5;241m.\u001b[39mhead()\n",
      "\u001b[0;31mNameError\u001b[0m: name 'combined_cleaned' is not defined"
     ]
    }
   ],
   "source": [
    "# 2019\n",
    "crime_df_2019 = combined_cleaned[combined_cleaned[\"Year\"] == 2019]\n",
    "crime_df_2019.head()"
   ]
  },
  {
   "cell_type": "code",
   "execution_count": 12,
   "id": "cc0f5434-210c-4097-a91d-6819deafdffa",
   "metadata": {},
   "outputs": [
    {
     "ename": "NameError",
     "evalue": "name 'combined_cleaned' is not defined",
     "output_type": "error",
     "traceback": [
      "\u001b[0;31m---------------------------------------------------------------------------\u001b[0m",
      "\u001b[0;31mNameError\u001b[0m                                 Traceback (most recent call last)",
      "Cell \u001b[0;32mIn[12], line 2\u001b[0m\n\u001b[1;32m      1\u001b[0m \u001b[38;5;66;03m# 2020\u001b[39;00m\n\u001b[0;32m----> 2\u001b[0m crime_df_2020 \u001b[38;5;241m=\u001b[39m combined_cleaned[combined_cleaned[\u001b[38;5;124m\"\u001b[39m\u001b[38;5;124mYear\u001b[39m\u001b[38;5;124m\"\u001b[39m] \u001b[38;5;241m==\u001b[39m \u001b[38;5;241m2020\u001b[39m]\n\u001b[1;32m      3\u001b[0m crime_df_2020\u001b[38;5;241m.\u001b[39mhead()\n",
      "\u001b[0;31mNameError\u001b[0m: name 'combined_cleaned' is not defined"
     ]
    }
   ],
   "source": [
    "# 2020\n",
    "crime_df_2020 = combined_cleaned[combined_cleaned[\"Year\"] == 2020]\n",
    "crime_df_2020.head()"
   ]
  },
  {
   "cell_type": "code",
   "execution_count": 13,
   "id": "7e6f2172-e8ae-40bd-8838-74b1b082b658",
   "metadata": {},
   "outputs": [
    {
     "ename": "NameError",
     "evalue": "name 'combined_cleaned' is not defined",
     "output_type": "error",
     "traceback": [
      "\u001b[0;31m---------------------------------------------------------------------------\u001b[0m",
      "\u001b[0;31mNameError\u001b[0m                                 Traceback (most recent call last)",
      "Cell \u001b[0;32mIn[13], line 2\u001b[0m\n\u001b[1;32m      1\u001b[0m \u001b[38;5;66;03m# 2021\u001b[39;00m\n\u001b[0;32m----> 2\u001b[0m crime_df_2021 \u001b[38;5;241m=\u001b[39m combined_cleaned[combined_cleaned[\u001b[38;5;124m\"\u001b[39m\u001b[38;5;124mYear\u001b[39m\u001b[38;5;124m\"\u001b[39m] \u001b[38;5;241m==\u001b[39m \u001b[38;5;241m2021\u001b[39m]\n\u001b[1;32m      3\u001b[0m crime_df_2021\u001b[38;5;241m.\u001b[39mhead()\n",
      "\u001b[0;31mNameError\u001b[0m: name 'combined_cleaned' is not defined"
     ]
    }
   ],
   "source": [
    "# 2021\n",
    "crime_df_2021 = combined_cleaned[combined_cleaned[\"Year\"] == 2021]\n",
    "crime_df_2021.head()"
   ]
  },
  {
   "cell_type": "code",
   "execution_count": 14,
   "id": "b8c71421-1d77-472e-accb-5aa504c6e15f",
   "metadata": {},
   "outputs": [
    {
     "ename": "NameError",
     "evalue": "name 'response_df_2017' is not defined",
     "output_type": "error",
     "traceback": [
      "\u001b[0;31m---------------------------------------------------------------------------\u001b[0m",
      "\u001b[0;31mNameError\u001b[0m                                 Traceback (most recent call last)",
      "Cell \u001b[0;32mIn[14], line 2\u001b[0m\n\u001b[1;32m      1\u001b[0m \u001b[38;5;66;03m# Combine the Dataframes to show Population per State with Crimes per year\u001b[39;00m\n\u001b[0;32m----> 2\u001b[0m response_df_2017_combined \u001b[38;5;241m=\u001b[39m response_df_2017\u001b[38;5;241m.\u001b[39mmerge(census_df,how\u001b[38;5;241m=\u001b[39m\u001b[38;5;124m\"\u001b[39m\u001b[38;5;124mleft\u001b[39m\u001b[38;5;124m\"\u001b[39m, on\u001b[38;5;241m=\u001b[39m[\u001b[38;5;124m\"\u001b[39m\u001b[38;5;124mState\u001b[39m\u001b[38;5;124m\"\u001b[39m, \u001b[38;5;124m\"\u001b[39m\u001b[38;5;124mState\u001b[39m\u001b[38;5;124m\"\u001b[39m])\n\u001b[1;32m      3\u001b[0m response_df_2017_combined\n",
      "\u001b[0;31mNameError\u001b[0m: name 'response_df_2017' is not defined"
     ]
    }
   ],
   "source": [
    "# Combine the Dataframes to show Population per State with Crimes per year\n",
    "response_df_2017_combined = response_df_2017.merge(census_df,how=\"left\", on=[\"State\", \"State\"])\n",
    "response_df_2017_combined"
   ]
  },
  {
   "cell_type": "code",
   "execution_count": 15,
   "id": "9dba0904-2b62-43f7-bb7d-97caa9fecb06",
   "metadata": {},
   "outputs": [],
   "source": [
    "import matplotlib.pyplot as plt\n",
    "import numpy as np"
   ]
  },
  {
   "cell_type": "code",
   "execution_count": 16,
   "id": "71b2328a",
   "metadata": {},
   "outputs": [
    {
     "ename": "NameError",
     "evalue": "name 'crime_df_2017' is not defined",
     "output_type": "error",
     "traceback": [
      "\u001b[0;31m---------------------------------------------------------------------------\u001b[0m",
      "\u001b[0;31mNameError\u001b[0m                                 Traceback (most recent call last)",
      "Cell \u001b[0;32mIn[16], line 1\u001b[0m\n\u001b[0;32m----> 1\u001b[0m x_axis \u001b[38;5;241m=\u001b[39m crime_df_2017[\u001b[38;5;124m\"\u001b[39m\u001b[38;5;124mState\u001b[39m\u001b[38;5;124m\"\u001b[39m]\n\u001b[1;32m      2\u001b[0m y_axis \u001b[38;5;241m=\u001b[39m crime_df_2017[\u001b[38;5;124m\"\u001b[39m\u001b[38;5;124mTotal Crime\u001b[39m\u001b[38;5;124m\"\u001b[39m]\n\u001b[1;32m      4\u001b[0m \u001b[38;5;66;03m# Tell matplotlib that we will be making a bar chart\u001b[39;00m\n\u001b[1;32m      5\u001b[0m \u001b[38;5;66;03m# Users is our y axis and x_axis is, of course, our x axis\u001b[39;00m\n\u001b[1;32m      6\u001b[0m \u001b[38;5;66;03m# We apply align=\"edge\" to ensure our bars line up with our tick marks\u001b[39;00m\n",
      "\u001b[0;31mNameError\u001b[0m: name 'crime_df_2017' is not defined"
     ]
    }
   ],
   "source": [
    "x_axis = crime_df_2017[\"State\"]\n",
    "y_axis = crime_df_2017[\"Total Crime\"]\n",
    "\n",
    "# Tell matplotlib that we will be making a bar chart\n",
    "# Users is our y axis and x_axis is, of course, our x axis\n",
    "# We apply align=\"edge\" to ensure our bars line up with our tick marks\n",
    "plt.bar(x_axis, y_axis, color='r', alpha=0.5, align=\"center\")\n"
   ]
  },
  {
   "cell_type": "code",
   "execution_count": null,
   "id": "439a9930",
   "metadata": {},
   "outputs": [],
   "source": []
  },
  {
   "cell_type": "code",
   "execution_count": null,
   "id": "f366f3b0",
   "metadata": {},
   "outputs": [],
   "source": []
  },
  {
   "cell_type": "code",
   "execution_count": null,
   "id": "f4dbfe1b",
   "metadata": {},
   "outputs": [],
   "source": []
  },
  {
   "cell_type": "code",
   "execution_count": null,
   "id": "c7cbe809",
   "metadata": {},
   "outputs": [],
   "source": []
  },
  {
   "cell_type": "code",
   "execution_count": null,
   "id": "d432b2e6",
   "metadata": {},
   "outputs": [],
   "source": []
  }
 ],
 "metadata": {
  "kernelspec": {
   "display_name": "Python 3 (ipykernel)",
   "language": "python",
   "name": "python3"
  },
  "language_info": {
   "codemirror_mode": {
    "name": "ipython",
    "version": 3
   },
   "file_extension": ".py",
   "mimetype": "text/x-python",
   "name": "python",
   "nbconvert_exporter": "python",
   "pygments_lexer": "ipython3",
   "version": "3.11.4"
  }
 },
 "nbformat": 4,
 "nbformat_minor": 5
}
